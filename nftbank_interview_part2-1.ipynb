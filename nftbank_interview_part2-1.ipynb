{
 "cells": [
  {
   "cell_type": "markdown",
   "metadata": {},
   "source": [
    "# NFTBank Data scientist Take-home Interview\n",
    "## Part 2-1: Axie NFT의 1주 / 2주 / 1달간 윈도우 내에서 판매될 확률 예측 모델\n"
   ]
  },
  {
   "cell_type": "markdown",
   "metadata": {},
   "source": [
    "#### 필요 라이브러리 import"
   ]
  },
  {
   "cell_type": "code",
   "execution_count": 24,
   "metadata": {},
   "outputs": [],
   "source": [
    "from sklearn.preprocessing import MinMaxScaler\n",
    "# from sklearn.preprocessing import LabelEncoder\n",
    "from sklearn.metrics import mean_squared_error\n",
    "from keras.models import Sequential\n",
    "from keras.layers import Dense\n",
    "from keras.layers import LSTM"
   ]
  },
  {
   "cell_type": "code",
   "execution_count": 31,
   "metadata": {},
   "outputs": [],
   "source": [
    "# convert series to supervised learning\n",
    "def series_to_supervised(data, n_in=1, n_out=1, dropnan=True):\n",
    "    n_vars = 1 if type(data) is list else data.shape[1]\n",
    "    df = pd.DataFrame(data)\n",
    "    cols, names = list(), list()\n",
    "    # input sequence (t-n, ... t-1)\n",
    "    for i in range(n_in, 0, -1):\n",
    "        cols.append(df.shift(i))\n",
    "        names += [('var%d(t-%d)' % (j+1, i)) for j in range(n_vars)]\n",
    "    # forecast sequence (t, t+1, ... t+n)\n",
    "    for i in range(0, n_out):\n",
    "        cols.append(df.shift(-i))\n",
    "        if i == 0:\n",
    "            names += [('var%d(t)' % (j+1)) for j in range(n_vars)]\n",
    "        else:\n",
    "            names += [('var%d(t+%d)' % (j+1, i)) for j in range(n_vars)]\n",
    "    # put it all together\n",
    "    agg = pd.concat(cols, axis=1)\n",
    "    agg.columns = names\n",
    "    # drop rows with NaN values\n",
    "    if dropnan:\n",
    "        agg.dropna(inplace=True)\n",
    "    return agg"
   ]
  },
  {
   "cell_type": "markdown",
   "metadata": {},
   "source": [
    "#### 데이터 로드 및 형 변환 등\n",
    "- 데이터 로드는 part1 코드와 동일하기 때문에 이 페이지 맨 하단에 있음\n",
    "- axie NFT 거래와 특성 아이템, SLP 데이터를 모두 병합한 후, 거래가격 200달러 이하의 데이터만 분석\n",
    "    - 거래와 특성 아이템의 block_date가 한 달 이내로 가까운 총 데이터의 약 80% 수준\n",
    "- data 형태 \n",
    "        - x data : 'breedCount', 'skill', 'morale', 'speed', 'hp', 'mouth_move_total_points', \n",
    "        'horn_move_total_points', 'back_move_total_points', 'tail_move_total_points', 'total_mystic_parts_count', \n",
    "        'total_bionic_parts_count', 'total_xmas_parts_count', 'pureness', 'exchange_rate' (14개)\n",
    "        - x 중 multiple regression을 통해 유의미한 변수만 러프하게 셀렉을 먼저 하고자 하였으나, 실패\n",
    "        - y data : 'erc20s_0_usd' (거래 당시 usd로 환산한 가격)\n",
    "            - erc20 종류가 ETH, SLP 등 다양하고 cryptocurrency 가격변동을 제거하기 위해 usd로 환산한 가격을 사용\n",
    "        "
   ]
  },
  {
   "cell_type": "code",
   "execution_count": 54,
   "metadata": {},
   "outputs": [
    {
     "name": "stdout",
     "output_type": "stream",
     "text": [
      "        var1(t-1)  var2(t-1)  var3(t-1)  var4(t-1)  var5(t-1)  var6(t-1)  \\\n",
      "910591   0.229994   0.285714   0.813953   0.672131        1.0   0.442623   \n",
      "910592   0.229994   0.285714   0.813953   0.672131        1.0   0.442623   \n",
      "910593   0.240203   0.285714   0.813953   0.672131        1.0   0.442623   \n",
      "\n",
      "        var7(t-1)  var8(t-1)  var9(t-1)  var10(t-1)  ...   var6(t)   var7(t)  \\\n",
      "910591   0.917355   0.958333    0.89916    0.942149  ...  0.442623  0.917355   \n",
      "910592   0.917355   0.958333    0.89916    0.942149  ...  0.442623  0.917355   \n",
      "910593   0.917355   0.958333    0.89916    0.942149  ...  0.442623  0.917355   \n",
      "\n",
      "         var8(t)  var9(t)  var10(t)  var11(t)  var12(t)  var13(t)  var14(t)  \\\n",
      "910591  0.958333  0.89916  0.942149       0.0       0.0       0.0  0.166667   \n",
      "910592  0.958333  0.89916  0.942149       0.0       0.0       0.0  0.166667   \n",
      "910593  0.958333  0.89916  0.942149       0.0       0.0       0.0  0.166667   \n",
      "\n",
      "        var15(t)  \n",
      "910591       0.0  \n",
      "910592       0.0  \n",
      "910593       0.0  \n",
      "\n",
      "[3 rows x 30 columns]\n"
     ]
    }
   ],
   "source": [
    "values = dataset.values\n",
    "# ensure all data is float\n",
    "values = values.astype('float64')\n",
    "\n",
    "# normalize features\n",
    "scaler = MinMaxScaler()\n",
    "scaled = scaler.fit_transform(values)\n",
    "\n",
    "# frame as supervised learning\n",
    "reframed = series_to_supervised(scaled, 1, 1)\n",
    "\n",
    "print(reframed.tail(3))\n"
   ]
  },
  {
   "cell_type": "markdown",
   "metadata": {},
   "source": [
    "#### 데이터 train과 test set 나누기\n",
    "- 가장 단순한 형태로 전체 중 20%를 test 데이터로 분류(추후 수정 필요)"
   ]
  },
  {
   "cell_type": "code",
   "execution_count": 55,
   "metadata": {},
   "outputs": [
    {
     "name": "stdout",
     "output_type": "stream",
     "text": [
      "(728474, 1, 29) (728474,) (182119, 1, 29) (182119,)\n"
     ]
    }
   ],
   "source": [
    "from sklearn.model_selection import train_test_split\n",
    "\n",
    "values = reframed.values\n",
    "n_train = int(len(reframed) * 0.8)\n",
    "train = values[:n_train, :]\n",
    "test = values[n_train:, :]\n",
    "# split into input and outputs\n",
    "train_X, train_y = train[:, :-1], train[:, -1]\n",
    "test_X, test_y = test[:, :-1], test[:, -1]\n",
    "# reshape input to be 3D [samples, timesteps, features]\n",
    "train_X = train_X.reshape((train_X.shape[0], 1, train_X.shape[1]))\n",
    "test_X = test_X.reshape((test_X.shape[0], 1, test_X.shape[1]))\n",
    "print(train_X.shape, train_y.shape, test_X.shape, test_y.shape)"
   ]
  },
  {
   "cell_type": "code",
   "execution_count": 56,
   "metadata": {},
   "outputs": [
    {
     "name": "stdout",
     "output_type": "stream",
     "text": [
      "Model: \"sequential_2\"\n",
      "_________________________________________________________________\n",
      "Layer (type)                 Output Shape              Param #   \n",
      "=================================================================\n",
      "lstm_1 (LSTM)                (None, 10)                1600      \n",
      "_________________________________________________________________\n",
      "dense_1 (Dense)              (None, 1)                 11        \n",
      "=================================================================\n",
      "Total params: 1,611\n",
      "Trainable params: 1,611\n",
      "Non-trainable params: 0\n",
      "_________________________________________________________________\n"
     ]
    }
   ],
   "source": [
    "# Define LSTM network\n",
    "model = Sequential()\n",
    "model.add(LSTM(10, input_shape=(train_X.shape[1], train_X.shape[2])))\n",
    "model.add(Dense(1, activation='sigmoid'))\n",
    "\n",
    "# Compile the model\n",
    "model.compile(optimizer='adam', loss='mae')\n",
    "\n",
    "# Give a summary\n",
    "model.summary()"
   ]
  },
  {
   "cell_type": "code",
   "execution_count": 57,
   "metadata": {},
   "outputs": [
    {
     "name": "stdout",
     "output_type": "stream",
     "text": [
      "Train on 728474 samples, validate on 182119 samples\n",
      "Epoch 1/50\n"
     ]
    },
    {
     "name": "stderr",
     "output_type": "stream",
     "text": [
      "C:\\Users\\jeyeon\\Anaconda3\\lib\\site-packages\\tensorflow\\python\\keras\\engine\\training.py:2325: UserWarning: `Model.state_updates` will be removed in a future version. This property should not be used in TensorFlow 2.0, as `updates` are applied automatically.\n",
      "  warnings.warn('`Model.state_updates` will be removed in a future version. '\n"
     ]
    },
    {
     "name": "stdout",
     "output_type": "stream",
     "text": [
      "728474/728474 - 10s - loss: 0.0175 - val_loss: 0.0937\n",
      "Epoch 2/50\n",
      "728474/728474 - 10s - loss: 0.0182 - val_loss: 0.0908\n",
      "Epoch 3/50\n",
      "728474/728474 - 10s - loss: 0.0153 - val_loss: 0.0877\n",
      "Epoch 4/50\n",
      "728474/728474 - 10s - loss: 0.0125 - val_loss: 0.0830\n",
      "Epoch 5/50\n",
      "728474/728474 - 10s - loss: 0.0100 - val_loss: 0.0705\n",
      "Epoch 6/50\n",
      "728474/728474 - 10s - loss: 0.0072 - val_loss: 0.0740\n",
      "Epoch 7/50\n",
      "728474/728474 - 10s - loss: 0.0070 - val_loss: 0.0728\n",
      "Epoch 8/50\n",
      "728474/728474 - 10s - loss: 0.0062 - val_loss: 0.0695\n",
      "Epoch 9/50\n",
      "728474/728474 - 10s - loss: 0.0055 - val_loss: 0.0668\n",
      "Epoch 10/50\n",
      "728474/728474 - 10s - loss: 0.0050 - val_loss: 0.0642\n",
      "Epoch 11/50\n",
      "728474/728474 - 10s - loss: 0.0044 - val_loss: 0.0608\n",
      "Epoch 12/50\n",
      "728474/728474 - 9s - loss: 0.0039 - val_loss: 0.0577\n",
      "Epoch 13/50\n",
      "728474/728474 - 9s - loss: 0.0033 - val_loss: 0.0562\n",
      "Epoch 14/50\n",
      "728474/728474 - 9s - loss: 0.0031 - val_loss: 0.0564\n",
      "Epoch 15/50\n",
      "728474/728474 - 9s - loss: 0.0029 - val_loss: 0.0559\n",
      "Epoch 16/50\n",
      "728474/728474 - 9s - loss: 0.0029 - val_loss: 0.0555\n",
      "Epoch 17/50\n",
      "728474/728474 - 9s - loss: 0.0028 - val_loss: 0.0549\n",
      "Epoch 18/50\n",
      "728474/728474 - 10s - loss: 0.0027 - val_loss: 0.0539\n",
      "Epoch 19/50\n",
      "728474/728474 - 10s - loss: 0.0027 - val_loss: 0.0534\n",
      "Epoch 20/50\n",
      "728474/728474 - 9s - loss: 0.0027 - val_loss: 0.0522\n",
      "Epoch 21/50\n",
      "728474/728474 - 9s - loss: 0.0028 - val_loss: 0.0519\n",
      "Epoch 22/50\n",
      "728474/728474 - 9s - loss: 0.0026 - val_loss: 0.0514\n",
      "Epoch 23/50\n",
      "728474/728474 - 9s - loss: 0.0024 - val_loss: 0.0520\n",
      "Epoch 24/50\n",
      "728474/728474 - 9s - loss: 0.0024 - val_loss: 0.0524\n",
      "Epoch 25/50\n",
      "728474/728474 - 9s - loss: 0.0024 - val_loss: 0.0536\n",
      "Epoch 26/50\n",
      "728474/728474 - 9s - loss: 0.0023 - val_loss: 0.0534\n",
      "Epoch 27/50\n",
      "728474/728474 - 9s - loss: 0.0022 - val_loss: 0.0544\n",
      "Epoch 28/50\n",
      "728474/728474 - 9s - loss: 0.0021 - val_loss: 0.0539\n",
      "Epoch 29/50\n",
      "728474/728474 - 9s - loss: 0.0021 - val_loss: 0.0540\n",
      "Epoch 30/50\n",
      "728474/728474 - 9s - loss: 0.0021 - val_loss: 0.0542\n",
      "Epoch 31/50\n",
      "728474/728474 - 9s - loss: 0.0020 - val_loss: 0.0536\n",
      "Epoch 32/50\n",
      "728474/728474 - 9s - loss: 0.0020 - val_loss: 0.0534\n",
      "Epoch 33/50\n",
      "728474/728474 - 9s - loss: 0.0020 - val_loss: 0.0536\n",
      "Epoch 34/50\n",
      "728474/728474 - 9s - loss: 0.0019 - val_loss: 0.0530\n",
      "Epoch 35/50\n",
      "728474/728474 - 10s - loss: 0.0019 - val_loss: 0.0525\n",
      "Epoch 36/50\n",
      "728474/728474 - 10s - loss: 0.0019 - val_loss: 0.0531\n",
      "Epoch 37/50\n",
      "728474/728474 - 10s - loss: 0.0019 - val_loss: 0.0532\n",
      "Epoch 38/50\n",
      "728474/728474 - 9s - loss: 0.0019 - val_loss: 0.0530\n",
      "Epoch 39/50\n",
      "728474/728474 - 10s - loss: 0.0019 - val_loss: 0.0531\n",
      "Epoch 40/50\n",
      "728474/728474 - 9s - loss: 0.0019 - val_loss: 0.0520\n",
      "Epoch 41/50\n",
      "728474/728474 - 9s - loss: 0.0018 - val_loss: 0.0515\n",
      "Epoch 42/50\n",
      "728474/728474 - 9s - loss: 0.0018 - val_loss: 0.0518\n",
      "Epoch 43/50\n",
      "728474/728474 - 9s - loss: 0.0018 - val_loss: 0.0512\n",
      "Epoch 44/50\n",
      "728474/728474 - 10s - loss: 0.0017 - val_loss: 0.0511\n",
      "Epoch 45/50\n",
      "728474/728474 - 9s - loss: 0.0018 - val_loss: 0.0510\n",
      "Epoch 46/50\n",
      "728474/728474 - 9s - loss: 0.0017 - val_loss: 0.0504\n",
      "Epoch 47/50\n",
      "728474/728474 - 9s - loss: 0.0016 - val_loss: 0.0504\n",
      "Epoch 48/50\n",
      "728474/728474 - 10s - loss: 0.0017 - val_loss: 0.0503\n",
      "Epoch 49/50\n",
      "728474/728474 - 10s - loss: 0.0016 - val_loss: 0.0503\n",
      "Epoch 50/50\n",
      "728474/728474 - 9s - loss: 0.0017 - val_loss: 0.0500\n"
     ]
    }
   ],
   "source": [
    "# fit network\n",
    "history = model.fit(train_X, train_y, epochs=50, batch_size=72, validation_data=(test_X, test_y), verbose=2, shuffle=False)"
   ]
  },
  {
   "cell_type": "code",
   "execution_count": 58,
   "metadata": {},
   "outputs": [
    {
     "data": {
      "image/png": "[encoded data removed]",
      "text/plain": [
       "<Figure size 432x288 with 1 Axes>"
      ]
     },
     "metadata": {
      "image/png": {
       "height": 251,
       "width": 380
      }
     },
     "output_type": "display_data"
    }
   ],
   "source": [
    "# plot history\n",
    "plt.plot(history.history['loss'], label='train')\n",
    "plt.plot(history.history['val_loss'], label='test')\n",
    "plt.legend()\n",
    "plt.show()"
   ]
  },
  {
   "cell_type": "markdown",
   "metadata": {},
   "source": [
    "### 모형 평가"
   ]
  },
  {
   "cell_type": "code",
   "execution_count": null,
   "metadata": {},
   "outputs": [],
   "source": []
  },
  {
   "cell_type": "code",
   "execution_count": null,
   "metadata": {},
   "outputs": [],
   "source": []
  },
  {
   "cell_type": "markdown",
   "metadata": {},
   "source": [
    "#### 아래는 axie 데이터 로드 "
   ]
  },
  {
   "cell_type": "code",
   "execution_count": null,
   "metadata": {},
   "outputs": [],
   "source": [
    "# axie 데이터 로드"
   ]
  },
  {
   "cell_type": "code",
   "execution_count": 16,
   "metadata": {},
   "outputs": [],
   "source": [
    "from sqlalchemy import create_engine\n",
    "\n",
    "with open(\"db_info.txt\") as f:\n",
    "    lines = f.readlines()\n",
    "    db_id = lines[0].strip()\n",
    "    db_pwd = lines[1].strip()\n",
    "    db_ip = lines[2].strip()\n",
    "    db_port = lines[3].strip()\n",
    "\n",
    "class Engine:\n",
    "\n",
    "    def __init__(self, db_ip = db_ip, db_port = db_port, db_id = db_id, db_pwd = db_pwd):\n",
    "        self.db_ip = db_ip\n",
    "        self.db_port = db_port\n",
    "        self.db_id = db_id\n",
    "        self.db_pwd = db_pwd\n",
    "\n",
    "    def connect(self, db_name):\n",
    "        conn = create_engine(\n",
    "            \"mysql+mysqldb://\" + self.db_id + \":\" + self.db_pwd + \"@\" + self.db_ip + \":\" + self.db_port + \"/\" + db_name,\n",
    "            encoding='utf-8')\n",
    "        return conn  "
   ]
  },
  {
   "cell_type": "code",
   "execution_count": null,
   "metadata": {},
   "outputs": [],
   "source": [
    "def get_axie_merged_df(type='sent'):\n",
    "    engine = Engine()\n",
    "    conn = engine.connect('axie')\n",
    "    sql = \"select af.block_timestamp as transaction_timestamp, af.nft_transaction_hash, af.event_type, \" \\\n",
    "          \"af.transaction_type, af.transaction_subtype,af.nft_transfer_type, af.nft_transfer_subtype, af.items_sent_0_item_id, \" \\\n",
    "          \"af.items_received_0_item_id, af.items_sent_count, af.items_received_count, \" \\\n",
    "          \"af.erc20s_0_symbol, af.erc20s_0_sent_amount, af.erc20s_0_received_amount, af.erc20s_0_sent_usd, af.erc20s_0_received_usd, \" \\\n",
    "          \"af.gas_used_usd, ai.block_timestamp as item_timestamp, ai.item_id, ai.class, ai.stage, ai.level, ai.exp, ai.breedable, ai.breedCount, \" \\\n",
    "          \"ai.skill, ai.morale, ai.speed, ai.hp, ai.all_parts_total_points, ai.mouth_move_stage, ai.mouth_move_total_points, \" \\\n",
    "          \"ai.horn_move_stage, ai.horn_move_total_points, ai.back_move_stage, ai.back_move_total_points,ai.tail_move_stage, \" \\\n",
    "          \"ai.tail_move_total_points, ai.total_mystic_parts_count, ai.total_bionic_parts_count, ai.total_xmas_parts_count, ai.pureness \" \\\n",
    "          \"from axie.axie_financials af, axie.axie_items ai \" \\\n",
    "          \"where datediff(af.block_timestamp, ai.block_timestamp) between -30 and 30 and af.data_consistency_status = 'complete' \"\n",
    "    if type == 'sent':\n",
    "        sql += \"and af.items_sent_0_item_id  = ai.item_id order by ai.item_id\"\n",
    "    elif type == 'received':\n",
    "        sql += \"and af.items_received_0_item_id  = ai.item_id order by ai.item_id\"\n",
    "    else:\n",
    "        print('타입을 잘못 입력하였습니다.')\n",
    "        return 0\n",
    "    data = conn.execute(sql).fetchall()\n",
    "\n",
    "    conn.dispose()\n",
    "    axie_df = pd.DataFrame(data, columns=['transaction_timestamp', 'nft_transaction_hash', 'event_type',\n",
    "          'transaction_type', 'transaction_subtype','nft_transfer_type', 'nft_transfer_subtype', 'items_sent_0_item_id',\n",
    "          'items_received_0_item_id', 'items_sent_count', 'items_received_count',\n",
    "          'erc20s_0_symbol', 'erc20s_0_sent_amount', 'erc20s_0_received_amount', 'erc20s_0_sent_usd', 'erc20s_0_received_usd',\n",
    "          'gas_used_usd', 'item_timestamp', 'item_id', 'class', 'stage', 'level', 'exp', 'breedable', 'breedCount',\n",
    "          'skill', 'morale', 'speed', 'hp', 'all_parts_total_points', 'mouth_move_stage', 'mouth_move_total_points',\n",
    "          'horn_move_stage', 'horn_move_total_points', 'back_move_stage', 'back_move_total_points','tail_move_stage',\n",
    "          'tail_move_total_points', 'total_mystic_parts_count', 'total_bionic_parts_count', 'total_xmas_parts_count', 'pureness'])\n",
    "\n",
    "    # 결측치 처리\n",
    "    numeric_cols = ['erc20s_0_sent_amount', 'erc20s_0_received_amount', 'erc20s_0_sent_usd', 'erc20s_0_received_usd',\n",
    "          'gas_used_usd', 'exp', 'breedCount', 'skill', 'morale', 'speed', 'hp', 'all_parts_total_points', 'mouth_move_total_points',\n",
    "          'horn_move_total_points', 'back_move_total_points', 'tail_move_total_points',\n",
    "            'total_mystic_parts_count', 'total_bionic_parts_count', 'total_xmas_parts_count', 'pureness' ]\n",
    "    axie_df[numeric_cols] = axie_df[numeric_cols].fillna(0)\n",
    "    axie_df = axie_df.astype({'transaction_timestamp': 'datetime64', 'items_sent_count':'int', 'items_received_count':'int',\n",
    "                              'erc20s_0_sent_amount':'float64',\n",
    "                              'erc20s_0_received_amount':'float64', 'erc20s_0_sent_usd':'float64', 'erc20s_0_received_usd':'float64',\n",
    "                              'gas_used_usd':'float64', 'item_timestamp':'datetime64', 'stage':'int', 'level':'int', 'exp':'int','breedCount':'int',\n",
    "                              'skill':'int', 'morale':'int', 'speed':'int', 'hp':'int', 'all_parts_total_points':'int', 'mouth_move_total_points':'int',\n",
    "                              'horn_move_total_points':'int', 'back_move_total_points':'int', 'tail_move_total_points':'int',\n",
    "                              'total_mystic_parts_count':'int', 'total_bionic_parts_count':'int', 'total_xmas_parts_count':'int', 'pureness':'int'})\n",
    "    return axie_df\n",
    "\n",
    "\n",
    "def get_SLP_df():\n",
    "    engine = Engine()\n",
    "    conn = engine.connect('axie')\n",
    "    sql = \"select block_date, exchange_rate from axie.erc20_fx where currency='SLP' and vs_currency='ETH' order by block_date\"\n",
    "    data = conn.execute(sql).fetchall()\n",
    "    conn.dispose()\n",
    "    df = pd.DataFrame(data, columns=['block_date', 'exchange_rate'])\n",
    "    df = df.astype({'block_date': 'datetime64', 'exchange_rate':'float64'})\n",
    "    return df"
   ]
  },
  {
   "cell_type": "code",
   "execution_count": 50,
   "metadata": {},
   "outputs": [],
   "source": [
    "axie_sent_df = get_axie_merged_df(type='sent')\n",
    "axie_received_df = get_axie_merged_df(type='received')\n",
    "SLP_df = get_SLP_df()"
   ]
  },
  {
   "cell_type": "code",
   "execution_count": 51,
   "metadata": {},
   "outputs": [],
   "source": [
    "axie_sent_df['erc20s_0_amount'] = axie_sent_df['erc20s_0_received_amount'].copy()\n",
    "axie_sent_df['erc20s_0_usd'] = axie_sent_df['erc20s_0_received_usd'].copy()\n",
    "axie_received_df['erc20s_0_amount'] =-axie_received_df['erc20s_0_sent_amount'].copy()\n",
    "axie_received_df['erc20s_0_usd'] = -axie_received_df['erc20s_0_sent_usd'].copy()\n",
    "axie_sent_df.drop(['items_sent_0_item_id','items_received_0_item_id', 'items_sent_count', 'items_received_count', \n",
    "                  'erc20s_0_sent_amount', 'erc20s_0_received_amount','erc20s_0_sent_usd', 'erc20s_0_received_usd',], axis=1, inplace=True)\n",
    "axie_received_df.drop(['items_sent_0_item_id','items_received_0_item_id', 'items_sent_count', 'items_received_count', \n",
    "                  'erc20s_0_sent_amount', 'erc20s_0_received_amount','erc20s_0_sent_usd', 'erc20s_0_received_usd',], axis=1, inplace=True)\n",
    "axie_df = pd.concat([axie_sent_df, axie_received_df], axis=0)\n",
    "\n",
    "# transaction_date 추가\n",
    "axie_df['transaction_date'] = pd.to_datetime(axie_df['transaction_timestamp']).dt.date\n",
    "axie_df['transaction_date'] = pd.to_datetime(axie_df['transaction_date'])\n",
    "\n",
    "# 시간대별로 정렬 (중요*)\n",
    "axie_df = axie_df.sort_values('transaction_timestamp')"
   ]
  },
  {
   "cell_type": "code",
   "execution_count": 52,
   "metadata": {},
   "outputs": [],
   "source": [
    "# axie_df와 SLP를 합친다\n",
    "axie_df = pd.merge(axie_df, SLP_df, how='left', left_on='transaction_date', right_on='block_date')"
   ]
  },
  {
   "cell_type": "code",
   "execution_count": 53,
   "metadata": {},
   "outputs": [],
   "source": [
    "col = ['erc20s_0_usd','breedCount', 'skill', 'morale', 'speed', 'hp', 'mouth_move_total_points', \n",
    "        'horn_move_total_points', 'back_move_total_points', 'tail_move_total_points', 'total_mystic_parts_count', \n",
    "        'total_bionic_parts_count', 'total_xmas_parts_count', 'pureness', 'exchange_rate']\n",
    "\n",
    "axie_df_under_200 = axie_df[axie_df['erc20s_0_usd'] < 200]\n",
    "dataset = axie_df_under_200[col]"
   ]
  },
  {
   "cell_type": "code",
   "execution_count": null,
   "metadata": {},
   "outputs": [],
   "source": []
  }
 ],
 "metadata": {
  "kernelspec": {
   "display_name": "Python 3",
   "language": "python",
   "name": "python3"
  }
 },
 "nbformat": 4,
 "nbformat_minor": 4
}
